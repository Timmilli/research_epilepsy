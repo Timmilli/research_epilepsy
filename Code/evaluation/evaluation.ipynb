{
 "cells": [
  {
   "cell_type": "markdown",
   "metadata": {},
   "source": [
    "# Evaluation of different open-source codes\n",
    "\n",
    "This file contains the code used to evaluate three open-source FCD detection codes: MS-DSA-NET, deepFCD, and MELD classifier. (TODO include references)\n",
    "\n",
    "## Evaluations\n",
    "\n",
    "Many ways exists to evaluate such codes, but it has been chosen to evaluate them on three levels: patient, region and pixel.\n",
    "\n",
    "### Patient-level\n",
    "\n",
    "It will be a binary evaluation, wheter it is correctly categorised or not (patient being patient, control being control).\n",
    "\n",
    "### Region-level\n",
    "\n",
    "It will also be a binary evaluation, wheter the prediction is in the right area of the brain (frontal lobe and right hemisphere)\n",
    "\n",
    "### Pixel-level\n",
    "\n",
    "Sensitivity, sensibility, accuracy, precision and the Dice coefficient will be used to evaluate the prediction pixel per pixel.\n",
    "\n",
    "## Data used\n",
    "\n",
    "This evaluation is made on the benchmark available on [OpenNeuro](https://openneuro.org/datasets/ds004199/versions/1.0.6). It contains 170 MRI scans, each containing both T1-weighted and FLAIR images, for 85 patients and 85 controls.\n",
    "\n",
    "For each patients, complementary informations are provided (sex, age at scan, 1 year outcome, hemisphere, lobe...) as shown with the code box below.\n"
   ]
  },
  {
   "cell_type": "code",
   "execution_count": null,
   "metadata": {},
   "outputs": [],
   "source": [
    "import pandas as pd\n",
    "df = pd.read_csv('../../Benchmarks/OpenNeuro/subjects/participants.tsv', sep='\\t', index_col=\"participant_id\")\n",
    "df.loc[:, [\"group\", \"sex\", \"age_scan\", \"hemisphere\", \"lobe\", \"1year_outcome\"]]"
   ]
  },
  {
   "cell_type": "markdown",
   "metadata": {},
   "source": [
    "The repartition within the benchmark is as followed.\n",
    "\n",
    "`age_scan` values are grouped within 5 years gap:\n",
    "| age_scan    | interval    |\n",
    "| ----------- | ----------- |\n",
    "| 1           | 0 - 5 yo    |\n",
    "| 2           | 6 - 10 yo   |\n",
    "| 3           | 11 - 15 yo  |\n",
    "| ...         | ...         |\n",
    "| 11          | 50 - 55 yo  |\n",
    "| 12          | 56 - 60 yo  |\n",
    "| 13          | 61 - 65 yo  |"
   ]
  },
  {
   "cell_type": "code",
   "execution_count": null,
   "metadata": {},
   "outputs": [],
   "source": [
    "print(df.loc[:, [\"group\"]].value_counts())\n",
    "\n",
    "print(df.loc[:, [\"sex\"]].value_counts())\n",
    "\n",
    "print(df.loc[:, [\"age_scan\"]].value_counts().sort_index())"
   ]
  },
  {
   "cell_type": "markdown",
   "metadata": {},
   "source": [
    "`hemisphere` and `lobe` abbreviations are:\n",
    "| abbreviation  | meaning           |\n",
    "| ------------- | ---------         |\n",
    "| L             | left              |\n",
    "| R             |  right            |\n",
    "| FL            | frontal lobe      |\n",
    "| TL            | temporal lobe     |\n",
    "| PL            | paretal lobe      |\n",
    "| OL            | occipital lobe    |\n",
    "| IL            | inusular lobe     |"
   ]
  },
  {
   "cell_type": "code",
   "execution_count": null,
   "metadata": {},
   "outputs": [],
   "source": [
    "print(df.loc[:, [\"hemisphere\"]].value_counts())\n",
    "\n",
    "print(df.loc[:, [\"lobe\"]].value_counts())"
   ]
  },
  {
   "cell_type": "markdown",
   "metadata": {},
   "source": [
    "# MS-DSA-NET"
   ]
  },
  {
   "cell_type": "code",
   "execution_count": null,
   "metadata": {},
   "outputs": [],
   "source": [
    "import glob\n",
    "import os\n",
    "\n",
    "input_dir = \"/home/guenael/git/Stage/research_epilepsy/Code/MS-DSA-NET/inputs/fsl/\"\n",
    "output_dir = \"/home/guenael/git/Stage/research_epilepsy/Code/MS-DSA-NET/outputs/\"\n",
    "date = \"2025-06-26\"\n",
    "\n",
    "input_files = sorted(glob.glob(os.path.join(\n",
    "    input_dir, \"*/fl_roi_reg.nii.gz\"), recursive=True))\n",
    "output_files = sorted(glob.glob(os.path.join(\n",
    "    output_dir + date, \"*/t1_reg_seg.nii.gz\"), recursive=True))\n",
    "\n",
    "nb_ground_truth = len(input_files)\n",
    "nb_predictions = len(output_files)\n",
    "\n",
    "def fill_in_blanks(ground_truth_files, prediction_files):\n",
    "    gt_filled = 0\n",
    "    pred_filled = 0\n",
    "    for i in range(max(len(ground_truth_files), len(prediction_files))):\n",
    "        if i >= len(ground_truth_files):\n",
    "            ground_truth_files.append(\"\")\n",
    "            gt_filled += 1\n",
    "        elif i >= len(prediction_files):\n",
    "            prediction_files.append(\"\")\n",
    "        else:\n",
    "            gt_id = int(ground_truth_files[i].split('/')[-2].split('_')[-1])\n",
    "            pred_id = int(prediction_files[i].split('/')[-2].split('_')[-1])\n",
    "            if gt_id > pred_id:\n",
    "                ground_truth_files.insert(i, \"\")\n",
    "            elif pred_id > gt_id:\n",
    "                prediction_files.insert(i, \"\")\n",
    "    print(gt_filled, \"blank gt files added and\", pred_filled, \"blank pred files added.\")\n",
    "\n",
    "fill_in_blanks(input_files, output_files)\n",
    "print(\"Before filling:\")\n",
    "print(nb_ground_truth, \"input files and \", nb_predictions, \"output files.\")\n",
    "print(\"After filling:\")\n",
    "print(len(input_files), \"input files and \", len(output_files), \"output files.\")"
   ]
  },
  {
   "cell_type": "markdown",
   "metadata": {},
   "source": [
    "## Patient-level\n",
    "\n",
    "Each predicted mask is transformed to binary matrix which sum is then compared to 0, being the sum of an empty mask. If the sum:\n",
    "- is equal to 0, then predicted as control\n",
    "- is more than 0, then predicted as patient"
   ]
  },
  {
   "cell_type": "code",
   "execution_count": null,
   "metadata": {
    "tags": []
   },
   "outputs": [],
   "source": [
    "from scripts.patient_level import get_patient_results\n",
    "\n",
    "patient_detected, patient_forgotten, control_detected, control_forgotten = get_patient_results(df, output_files)"
   ]
  },
  {
   "cell_type": "code",
   "execution_count": null,
   "metadata": {},
   "outputs": [],
   "source": [
    "print(\"Patient: \", patient_detected, '/', patient_detected+len(patient_forgotten),\"| Control: \", control_detected, '/', control_detected+len(control_forgotten), \"| \", control_detected + patient_detected, \"/\", control_detected + patient_detected+len(patient_forgotten)+len(control_forgotten))\n",
    "print(patient_forgotten)\n",
    "print(control_forgotten)\n"
   ]
  },
  {
   "cell_type": "markdown",
   "metadata": {},
   "source": [
    "## Region-level\n",
    "\n",
    "Each predicted mask region is determined with nibabel and nilearn where the prediction is compared with the Harvard-Oxford atlas in order to get the lobe and hemisphere.\n",
    "\n",
    "They are then compared to the data from the benchmark."
   ]
  },
  {
   "cell_type": "code",
   "execution_count": null,
   "metadata": {},
   "outputs": [],
   "source": [
    "from scripts.region_level import get_region_results, get_region_result_for_one_mask\n",
    "\n",
    "control_lobe_situated, control_lobe_missed, control_hemisphere_situated, control_hemisphere_missed, patient_lobe_situated, patient_lobe_missed, patient_hemisphere_situated, patient_hemisphere_missed = get_region_results(df, output_files)"
   ]
  },
  {
   "cell_type": "code",
   "execution_count": null,
   "metadata": {},
   "outputs": [],
   "source": [
    "print(\"Patient lobe: \", patient_lobe_situated, '/', patient_lobe_situated+len(patient_lobe_missed))\n",
    "print(\"Patient hemisphere: \", patient_hemisphere_situated, '/', patient_hemisphere_situated+len(patient_hemisphere_missed))\n",
    "print(patient_lobe_missed)\n",
    "print(patient_hemisphere_missed)\n",
    "\n",
    "print(\"Control lobe: \", control_lobe_situated, '/', control_lobe_situated+len(control_lobe_missed))\n",
    "print(\"Control hemisphere: \", control_hemisphere_situated, '/', control_hemisphere_situated+len(control_hemisphere_missed))\n",
    "print(control_lobe_missed)\n",
    "print(control_hemisphere_missed)"
   ]
  },
  {
   "cell_type": "markdown",
   "metadata": {},
   "source": [
    "## Pixel-level\n",
    "\n",
    "Each predicted mask is compared to the ground truth. Sensitivity, sensibility, dice coefficent, accuracy and precision is then returned.\n",
    "\n",
    "This test in run only on patients' ground truths and predictions"
   ]
  },
  {
   "cell_type": "code",
   "execution_count": null,
   "metadata": {},
   "outputs": [],
   "source": [
    "from scripts.pixel_level import get_pixel_results\n",
    "\n",
    "mean_sensitivity, mean_specificity, mean_dice, mean_precision, mean_accuracy = get_pixel_results(df, input_files, output_files)"
   ]
  },
  {
   "cell_type": "code",
   "execution_count": null,
   "metadata": {},
   "outputs": [],
   "source": [
    "print(\"Out of\", nb_ground_truth,\"patients:\")\n",
    "print(\"Average sensitivity\\t\", mean_sensitivity)\n",
    "print(\"Average specificity\\t\", mean_specificity)\n",
    "print(\"Average dice\\t\\t\", mean_dice)\n",
    "print(\"Average precision\\t\", mean_precision)\n",
    "print(\"Average accuracy\\t\", mean_accuracy)"
   ]
  }
 ],
 "metadata": {
  "kernelspec": {
   "display_name": "Python 3",
   "language": "python",
   "name": "python3"
  },
  "language_info": {
   "codemirror_mode": {
    "name": "ipython",
    "version": 3
   },
   "file_extension": ".py",
   "mimetype": "text/x-python",
   "name": "python",
   "nbconvert_exporter": "python",
   "pygments_lexer": "ipython3",
   "version": "3.10.12"
  }
 },
 "nbformat": 4,
 "nbformat_minor": 2
}
